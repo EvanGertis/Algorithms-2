{
 "cells": [
  {
   "cell_type": "code",
   "execution_count": 12,
   "metadata": {},
   "outputs": [
    {
     "name": "stdout",
     "output_type": "stream",
     "text": [
      "[1, 2, 3, 4, 5, 6, 7, 8]\n"
     ]
    }
   ],
   "source": [
    "\n",
    "def get_list_of_lists1(arr):\n",
    "    new_arr = []\n",
    "    for subarr in arr:\n",
    "        new_arr += subarr\n",
    "    return new_arr\n",
    "\n",
    "def get_list_of_lists2(arr):\n",
    "    return [element for subarr in arr for element in subarr]\n",
    "\n",
    "arr = [[1,2,3], [4], [5,6,7,8]]\n",
    "a = get_list_of_lists1(arr)\n",
    "b = get_list_of_lists2(arr)\n",
    "assert a == b\n",
    "print(a)\n",
    "# => [1, 2, 3, 4, 5, 6, 7, 8]"
   ]
  },
  {
   "cell_type": "markdown",
   "metadata": {},
   "source": []
  },
  {
   "cell_type": "code",
   "execution_count": 13,
   "metadata": {},
   "outputs": [
    {
     "name": "stdout",
     "output_type": "stream",
     "text": [
      "[1, 2, 3, 4, 5, 6, 7, 8]\n"
     ]
    }
   ],
   "source": [
    "def get_list_of_lists_of_lists(arr):\n",
    "    new_arr = []\n",
    "    for subarr in arr:\n",
    "        for subsubarr in subarr:\n",
    "            new_arr += subsubarr\n",
    "    return new_arr\n",
    "\n",
    "arr = [[[1],[2,3]], [[4]], [[5,6,7],[8]]]\n",
    "a = get_list_of_lists_of_lists(arr)\n",
    "print(a)\n",
    "# => [1, 2, 3, 4, 5, 6, 7, 8]"
   ]
  },
  {
   "cell_type": "code",
   "execution_count": null,
   "metadata": {},
   "outputs": [],
   "source": [
    "def flatten_list_with_recursion(arr):\n",
    "    # end condition\n",
    "    if not isinstance(arr, list):\n",
    "        return [arr]\n",
    "    \n",
    "    # otherwise, go deeper and add\n",
    "    # to new_arr each subresult\n",
    "    new_arr = []\n",
    "    for subarr in arr:\n",
    "        new_arr += flatten_list_with_recursion(subarr)\n",
    "    return new_arr\n",
    "\n",
    "arr = [1, [[2,[3]]], [4], [[5,6,7]],[[[[[8]]]]]]\n",
    "a = flatten_list_with_recursion(arr)\n",
    "print(a)\n",
    "# => [1, 2, 3, 4, 5, 6, 7, 8]"
   ]
  }
 ],
 "metadata": {
  "kernelspec": {
   "display_name": "Python 3",
   "language": "python",
   "name": "python3"
  },
  "language_info": {
   "codemirror_mode": {
    "name": "ipython",
    "version": 3
   },
   "file_extension": ".py",
   "mimetype": "text/x-python",
   "name": "python",
   "nbconvert_exporter": "python",
   "pygments_lexer": "ipython3",
   "version": "3.9.12"
  },
  "orig_nbformat": 4,
  "vscode": {
   "interpreter": {
    "hash": "aee8b7b246df8f9039afb4144a1f6fd8d2ca17a180786b69acc140d282b71a49"
   }
  }
 },
 "nbformat": 4,
 "nbformat_minor": 2
}
